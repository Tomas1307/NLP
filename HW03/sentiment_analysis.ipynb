{
 "cells": [
  {
   "cell_type": "code",
   "execution_count": 1,
   "metadata": {},
   "outputs": [],
   "source": [
    "import pandas as pd\n",
    "import time"
   ]
  },
  {
   "cell_type": "code",
   "execution_count": 2,
   "metadata": {},
   "outputs": [],
   "source": [
    "def print_progress_bar(percentage):\n",
    "    bar_length = 50  # Definir la longitud de la barra de progreso\n",
    "    filled_length = int(bar_length * percentage // 100)\n",
    "    bar = '█' * filled_length + '-' * (bar_length - filled_length)\n",
    "    print(f'\\rProgress: |{bar}| {percentage}% Complete', end='\\r')\n",
    "\n",
    "def log_category_progress(category, step, total_steps):\n",
    "    percentage = int((step / total_steps) * 100)\n",
    "    print(f\"\\nProcessing {category} ({step}/{total_steps})\")\n",
    "    print_progress_bar(percentage)\n",
    "    time.sleep(0.5)  # Solo para simular el tiempo de procesamiento\n",
    "\n",
    "def read_file(file_location) -> pd.DataFrame:\n",
    "    print(f\"Reading file: {file_location}\")\n",
    "    with open(file_location, 'r') as file:\n",
    "        data = file.readlines()\n",
    "\n",
    "    rows = []\n",
    "    for i in range(0, len(data)):\n",
    "        terms = {}\n",
    "        # Separar la parte de los términos del label\n",
    "        line_parts = data[i].split(\" #label#:\")\n",
    "        terms_part = line_parts[0].split()  # Parte con los términos\n",
    "        label = line_parts[1].strip()  # El label (positive o negative)\n",
    "\n",
    "        # Iterar sobre los términos y extraer el valor\n",
    "        for j in terms_part:\n",
    "            if \":\" in j:\n",
    "                term, value = j.split(\":\")\n",
    "                terms[term] = int(value)\n",
    "\n",
    "        # Crear un diccionario para la fila con el formato { 'terms': {términos}, 'label': label }\n",
    "        rows.append({\n",
    "            \"terms\": terms,  # El diccionario con los términos y sus valores\n",
    "            \"label\": label   # El label ('positive' o 'negative')\n",
    "        })\n",
    "\n",
    "    # Crear un DataFrame con dos columnas: 'terms' y 'label'\n",
    "    dataFrame = pd.DataFrame(rows)\n",
    "\n",
    "    return dataFrame"
   ]
  },
  {
   "cell_type": "code",
   "execution_count": 3,
   "metadata": {},
   "outputs": [
    {
     "name": "stdout",
     "output_type": "stream",
     "text": [
      "Reading file: data/MultiDomainSentiment/negative.review\n"
     ]
    },
    {
     "data": {
      "text/html": [
       "<div>\n",
       "<style scoped>\n",
       "    .dataframe tbody tr th:only-of-type {\n",
       "        vertical-align: middle;\n",
       "    }\n",
       "\n",
       "    .dataframe tbody tr th {\n",
       "        vertical-align: top;\n",
       "    }\n",
       "\n",
       "    .dataframe thead th {\n",
       "        text-align: right;\n",
       "    }\n",
       "</style>\n",
       "<table border=\"1\" class=\"dataframe\">\n",
       "  <thead>\n",
       "    <tr style=\"text-align: right;\">\n",
       "      <th></th>\n",
       "      <th>terms</th>\n",
       "      <th>label</th>\n",
       "    </tr>\n",
       "  </thead>\n",
       "  <tbody>\n",
       "    <tr>\n",
       "      <th>0</th>\n",
       "      <td>{'avid': 1, 'your': 1, 'horrible_book': 1, 'wa...</td>\n",
       "      <td>negative</td>\n",
       "    </tr>\n",
       "    <tr>\n",
       "      <th>1</th>\n",
       "      <td>{'to_use': 1, 'shallow': 1, 'found': 1, 'he_ca...</td>\n",
       "      <td>negative</td>\n",
       "    </tr>\n",
       "    <tr>\n",
       "      <th>2</th>\n",
       "      <td>{'avid': 1, 'your': 1, 'horrible_book': 1, 'wa...</td>\n",
       "      <td>negative</td>\n",
       "    </tr>\n",
       "    <tr>\n",
       "      <th>3</th>\n",
       "      <td>{'book_seriously': 1, 'we': 1, 'days_couldn't'...</td>\n",
       "      <td>negative</td>\n",
       "    </tr>\n",
       "    <tr>\n",
       "      <th>4</th>\n",
       "      <td>{'mass': 1, 'only': 1, 'he': 2, 'help': 1, '\"j...</td>\n",
       "      <td>negative</td>\n",
       "    </tr>\n",
       "    <tr>\n",
       "      <th>...</th>\n",
       "      <td>...</td>\n",
       "      <td>...</td>\n",
       "    </tr>\n",
       "    <tr>\n",
       "      <th>995</th>\n",
       "      <td>{'only': 1, 'idiotic_anyone': 1, 'if_i': 1, 'm...</td>\n",
       "      <td>negative</td>\n",
       "    </tr>\n",
       "    <tr>\n",
       "      <th>996</th>\n",
       "      <td>{'your': 1, 'well': 1, 'to_create': 1, 'peter'...</td>\n",
       "      <td>negative</td>\n",
       "    </tr>\n",
       "    <tr>\n",
       "      <th>997</th>\n",
       "      <td>{'favorable_reviews': 1, 'heard': 1, 'straight...</td>\n",
       "      <td>negative</td>\n",
       "    </tr>\n",
       "    <tr>\n",
       "      <th>998</th>\n",
       "      <td>{'helpful': 1, 'this_one': 1, 'substance_and':...</td>\n",
       "      <td>negative</td>\n",
       "    </tr>\n",
       "    <tr>\n",
       "      <th>999</th>\n",
       "      <td>{'see_other': 1, 'written_by': 1, 'objective_a...</td>\n",
       "      <td>negative</td>\n",
       "    </tr>\n",
       "  </tbody>\n",
       "</table>\n",
       "<p>1000 rows × 2 columns</p>\n",
       "</div>"
      ],
      "text/plain": [
       "                                                 terms     label\n",
       "0    {'avid': 1, 'your': 1, 'horrible_book': 1, 'wa...  negative\n",
       "1    {'to_use': 1, 'shallow': 1, 'found': 1, 'he_ca...  negative\n",
       "2    {'avid': 1, 'your': 1, 'horrible_book': 1, 'wa...  negative\n",
       "3    {'book_seriously': 1, 'we': 1, 'days_couldn't'...  negative\n",
       "4    {'mass': 1, 'only': 1, 'he': 2, 'help': 1, '\"j...  negative\n",
       "..                                                 ...       ...\n",
       "995  {'only': 1, 'idiotic_anyone': 1, 'if_i': 1, 'm...  negative\n",
       "996  {'your': 1, 'well': 1, 'to_create': 1, 'peter'...  negative\n",
       "997  {'favorable_reviews': 1, 'heard': 1, 'straight...  negative\n",
       "998  {'helpful': 1, 'this_one': 1, 'substance_and':...  negative\n",
       "999  {'see_other': 1, 'written_by': 1, 'objective_a...  negative\n",
       "\n",
       "[1000 rows x 2 columns]"
      ]
     },
     "execution_count": 3,
     "metadata": {},
     "output_type": "execute_result"
    }
   ],
   "source": [
    "df_train = read_file(\"data/MultiDomainSentiment/negative.review\")\n",
    "df_train"
   ]
  },
  {
   "cell_type": "code",
   "execution_count": 4,
   "metadata": {},
   "outputs": [],
   "source": [
    "df_train.to_csv(\"negative.review.csv\")"
   ]
  },
  {
   "cell_type": "code",
   "execution_count": 5,
   "metadata": {},
   "outputs": [
    {
     "name": "stdout",
     "output_type": "stream",
     "text": [
      "Reading file: data/MultiDomainSentiment/unlabeled.review\n"
     ]
    },
    {
     "data": {
      "text/html": [
       "<div>\n",
       "<style scoped>\n",
       "    .dataframe tbody tr th:only-of-type {\n",
       "        vertical-align: middle;\n",
       "    }\n",
       "\n",
       "    .dataframe tbody tr th {\n",
       "        vertical-align: top;\n",
       "    }\n",
       "\n",
       "    .dataframe thead th {\n",
       "        text-align: right;\n",
       "    }\n",
       "</style>\n",
       "<table border=\"1\" class=\"dataframe\">\n",
       "  <thead>\n",
       "    <tr style=\"text-align: right;\">\n",
       "      <th></th>\n",
       "      <th>terms</th>\n",
       "      <th>label</th>\n",
       "    </tr>\n",
       "  </thead>\n",
       "  <tbody>\n",
       "    <tr>\n",
       "      <th>0</th>\n",
       "      <td>{'is_such': 1, 'feel': 1, 'pages': 1, 'if': 1,...</td>\n",
       "      <td>negative</td>\n",
       "    </tr>\n",
       "    <tr>\n",
       "      <th>1</th>\n",
       "      <td>{'go_mercy': 1, 'forget': 1, 'all_the': 1, 'pi...</td>\n",
       "      <td>negative</td>\n",
       "    </tr>\n",
       "    <tr>\n",
       "      <th>2</th>\n",
       "      <td>{'explanation_of': 1, 'plains': 1, 'bison': 5,...</td>\n",
       "      <td>positive</td>\n",
       "    </tr>\n",
       "    <tr>\n",
       "      <th>3</th>\n",
       "      <td>{'stars': 1, 'bold_kudos': 1, 'every_pedophile...</td>\n",
       "      <td>positive</td>\n",
       "    </tr>\n",
       "    <tr>\n",
       "      <th>4</th>\n",
       "      <td>{'doesn't_say': 1, 'their_class': 1, 'say_much...</td>\n",
       "      <td>negative</td>\n",
       "    </tr>\n",
       "    <tr>\n",
       "      <th>...</th>\n",
       "      <td>...</td>\n",
       "      <td>...</td>\n",
       "    </tr>\n",
       "    <tr>\n",
       "      <th>4460</th>\n",
       "      <td>{'mass': 1, 'specifically_references': 1, 'sci...</td>\n",
       "      <td>negative</td>\n",
       "    </tr>\n",
       "    <tr>\n",
       "      <th>4461</th>\n",
       "      <td>{'reviewer's_comments': 1, 'to_pick': 1, 'comm...</td>\n",
       "      <td>negative</td>\n",
       "    </tr>\n",
       "    <tr>\n",
       "      <th>4462</th>\n",
       "      <td>{'x-ers': 1, 'entry-level': 1, 'can_dip': 1, '...</td>\n",
       "      <td>positive</td>\n",
       "    </tr>\n",
       "    <tr>\n",
       "      <th>4463</th>\n",
       "      <td>{'your': 1, 'well': 1, 'around_for': 1, 'you'r...</td>\n",
       "      <td>positive</td>\n",
       "    </tr>\n",
       "    <tr>\n",
       "      <th>4464</th>\n",
       "      <td>{'track_in': 1, 'it_before': 1, 'dealing': 1, ...</td>\n",
       "      <td>positive</td>\n",
       "    </tr>\n",
       "  </tbody>\n",
       "</table>\n",
       "<p>4465 rows × 2 columns</p>\n",
       "</div>"
      ],
      "text/plain": [
       "                                                  terms     label\n",
       "0     {'is_such': 1, 'feel': 1, 'pages': 1, 'if': 1,...  negative\n",
       "1     {'go_mercy': 1, 'forget': 1, 'all_the': 1, 'pi...  negative\n",
       "2     {'explanation_of': 1, 'plains': 1, 'bison': 5,...  positive\n",
       "3     {'stars': 1, 'bold_kudos': 1, 'every_pedophile...  positive\n",
       "4     {'doesn't_say': 1, 'their_class': 1, 'say_much...  negative\n",
       "...                                                 ...       ...\n",
       "4460  {'mass': 1, 'specifically_references': 1, 'sci...  negative\n",
       "4461  {'reviewer's_comments': 1, 'to_pick': 1, 'comm...  negative\n",
       "4462  {'x-ers': 1, 'entry-level': 1, 'can_dip': 1, '...  positive\n",
       "4463  {'your': 1, 'well': 1, 'around_for': 1, 'you'r...  positive\n",
       "4464  {'track_in': 1, 'it_before': 1, 'dealing': 1, ...  positive\n",
       "\n",
       "[4465 rows x 2 columns]"
      ]
     },
     "execution_count": 5,
     "metadata": {},
     "output_type": "execute_result"
    }
   ],
   "source": [
    "df_validation = read_file(\"data/MultiDomainSentiment/unlabeled.review\")\n",
    "df_validation"
   ]
  },
  {
   "cell_type": "code",
   "execution_count": 6,
   "metadata": {},
   "outputs": [],
   "source": [
    "df_validation.to_csv(\"unlabeled.review.csv\")"
   ]
  },
  {
   "cell_type": "code",
   "execution_count": 15,
   "metadata": {},
   "outputs": [],
   "source": [
    "def process_category(category, negative_file, positive_file, testing_file):\n",
    "    total_steps = 3\n",
    "    step = 1\n",
    "\n",
    "    log_category_progress(category, step, total_steps)\n",
    "    df_negative = read_file(negative_file)\n",
    "\n",
    "    step += 1\n",
    "    log_category_progress(category, step, total_steps)\n",
    "    df_positive = read_file(positive_file)\n",
    "\n",
    "    step += 1\n",
    "    log_category_progress(category, step, total_steps)\n",
    "    df_testing = read_file(testing_file)\n",
    "\n",
    "    # Combinar los datasets de entrenamiento y testing\n",
    "    df_train = pd.concat([df_negative, df_positive])\n",
    "    df_train[\"category\"] = category\n",
    "    df_testing[\"category\"] = category\n",
    "\n",
    "    return df_train, df_testing"
   ]
  },
  {
   "cell_type": "code",
   "execution_count": 16,
   "metadata": {},
   "outputs": [
    {
     "name": "stdout",
     "output_type": "stream",
     "text": [
      "Starting processing...\n",
      "\n",
      "Processing kitchen (1/3)\n",
      "Reading file: data/MultiDomainSentiment/processed_acl/kitchen/negative.review\n",
      "\n",
      "Processing kitchen (2/3)\n",
      "Reading file: data/MultiDomainSentiment/processed_acl/kitchen/positive.review\n",
      "\n",
      "Processing kitchen (3/3)\n",
      "Reading file: data/MultiDomainSentiment/processed_acl/kitchen/unlabeled.review\n"
     ]
    }
   ],
   "source": [
    "# Procesar cada categoría\n",
    "\n",
    "print(\"Starting processing...\")\n",
    "\n",
    "# Kitchen\n",
    "df_kitchen, df_kitchen_testing = process_category(\n",
    "    \"kitchen\",\n",
    "    \"data/MultiDomainSentiment/processed_acl/kitchen/negative.review\",\n",
    "    \"data/MultiDomainSentiment/processed_acl/kitchen/positive.review\",\n",
    "    \"data/MultiDomainSentiment/processed_acl/kitchen/unlabeled.review\"\n",
    ")\n"
   ]
  },
  {
   "cell_type": "code",
   "execution_count": 17,
   "metadata": {},
   "outputs": [
    {
     "name": "stdout",
     "output_type": "stream",
     "text": [
      "\n",
      "Processing books (1/3)\n",
      "Reading file: data/MultiDomainSentiment/processed_acl/books/negative.review\n",
      "\n",
      "Processing books (2/3)\n",
      "Reading file: data/MultiDomainSentiment/processed_acl/books/positive.review\n",
      "\n",
      "Processing books (3/3)\n",
      "Reading file: data/MultiDomainSentiment/processed_acl/books/unlabeled.review\n"
     ]
    }
   ],
   "source": [
    "\n",
    "# Books\n",
    "df_books, df_books_testing = process_category(\n",
    "    \"books\",\n",
    "    \"data/MultiDomainSentiment/processed_acl/books/negative.review\",\n",
    "    \"data/MultiDomainSentiment/processed_acl/books/positive.review\",\n",
    "    \"data/MultiDomainSentiment/processed_acl/books/unlabeled.review\"\n",
    ")\n",
    "\n"
   ]
  },
  {
   "cell_type": "code",
   "execution_count": 18,
   "metadata": {},
   "outputs": [
    {
     "name": "stdout",
     "output_type": "stream",
     "text": [
      "\n",
      "Processing electronics (1/3)\n",
      "Reading file: data/MultiDomainSentiment/processed_acl/electronics/negative.review\n",
      "\n",
      "Processing electronics (2/3)\n",
      "Reading file: data/MultiDomainSentiment/processed_acl/electronics/positive.review\n",
      "\n",
      "Processing electronics (3/3)\n",
      "Reading file: data/MultiDomainSentiment/processed_acl/electronics/unlabeled.review\n"
     ]
    }
   ],
   "source": [
    "# Electronics\n",
    "df_electronics, df_electronics_testing = process_category(\n",
    "    \"electronics\",\n",
    "    \"data/MultiDomainSentiment/processed_acl/electronics/negative.review\",\n",
    "    \"data/MultiDomainSentiment/processed_acl/electronics/positive.review\",\n",
    "    \"data/MultiDomainSentiment/processed_acl/electronics/unlabeled.review\"\n",
    ")\n",
    "\n"
   ]
  },
  {
   "cell_type": "code",
   "execution_count": 19,
   "metadata": {},
   "outputs": [
    {
     "name": "stdout",
     "output_type": "stream",
     "text": [
      "\n",
      "Processing dvd (1/3)\n",
      "Reading file: data/MultiDomainSentiment/processed_acl/dvd/negative.reviewte\n",
      "\n",
      "Processing dvd (2/3)\n",
      "Reading file: data/MultiDomainSentiment/processed_acl/dvd/positive.reviewte\n",
      "\n",
      "Processing dvd (3/3)\n",
      "Reading file: data/MultiDomainSentiment/processed_acl/dvd/unlabeled.reviewte\n"
     ]
    }
   ],
   "source": [
    "# DVD\n",
    "df_dvd, df_dvd_testing = process_category(\n",
    "    \"dvd\",\n",
    "    \"data/MultiDomainSentiment/processed_acl/dvd/negative.review\",\n",
    "    \"data/MultiDomainSentiment/processed_acl/dvd/positive.review\",\n",
    "    \"data/MultiDomainSentiment/processed_acl/dvd/unlabeled.review\"\n",
    ")\n",
    "\n"
   ]
  },
  {
   "cell_type": "code",
   "execution_count": 27,
   "metadata": {},
   "outputs": [
    {
     "name": "stdout",
     "output_type": "stream",
     "text": [
      "\n",
      "Processing completed.\n"
     ]
    }
   ],
   "source": [
    "# Unir datasets de entrenamiento\n",
    "df_training_categories = pd.concat([df_kitchen, df_books, df_electronics, df_dvd],ignore_index=True)\n",
    "\n",
    "# Unir datasets de testing\n",
    "df_testing = pd.concat([df_kitchen_testing, df_books_testing, df_electronics_testing, df_dvd_testing],ignore_index=True)\n",
    "\n",
    "print(\"\\nProcessing completed.\")"
   ]
  },
  {
   "cell_type": "code",
   "execution_count": 38,
   "metadata": {},
   "outputs": [],
   "source": [
    "df_training_categories.to_csv(\"training_data_categories.csv\")"
   ]
  },
  {
   "cell_type": "code",
   "execution_count": 39,
   "metadata": {},
   "outputs": [],
   "source": [
    "df_testing.to_csv(\"testing_data_categories.csv\")"
   ]
  }
 ],
 "metadata": {
  "kernelspec": {
   "display_name": "Python 3",
   "language": "python",
   "name": "python3"
  },
  "language_info": {
   "codemirror_mode": {
    "name": "ipython",
    "version": 3
   },
   "file_extension": ".py",
   "mimetype": "text/x-python",
   "name": "python",
   "nbconvert_exporter": "python",
   "pygments_lexer": "ipython3",
   "version": "3.11.9"
  }
 },
 "nbformat": 4,
 "nbformat_minor": 2
}
