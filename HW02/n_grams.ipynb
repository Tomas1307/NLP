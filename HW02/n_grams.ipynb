{
 "cells": [
  {
   "cell_type": "code",
   "execution_count": 1,
   "metadata": {},
   "outputs": [
    {
     "name": "stderr",
     "output_type": "stream",
     "text": [
      "[nltk_data] Downloading package punkt to\n",
      "[nltk_data]     C:\\Users\\Rog\\AppData\\Roaming\\nltk_data...\n",
      "[nltk_data]   Package punkt is already up-to-date!\n"
     ]
    }
   ],
   "source": [
    "import pandas as pd\n",
    "import gensim\n",
    "import nltk\n",
    "nltk.download('punkt')  # Descarga el tokenizer de sentences si no lo tienes instalado\n",
    "from processor import Processor\n",
    "from nltk.tokenize import sent_tokenize, word_tokenize\n",
    "\n"
   ]
  },
  {
   "cell_type": "code",
   "execution_count": null,
   "metadata": {},
   "outputs": [],
   "source": []
  },
  {
   "cell_type": "code",
   "execution_count": 2,
   "metadata": {},
   "outputs": [],
   "source": [
    "df_20N = pd.read_csv(\"20N_unified.csv\")\n",
    "df_bac = pd.read_csv(\"bac_unified.csv\")"
   ]
  },
  {
   "cell_type": "code",
   "execution_count": 3,
   "metadata": {},
   "outputs": [
    {
     "data": {
      "text/plain": [
       "Index(['Unnamed: 0', 'category', 'email_id', 'from', 'subject', 'body'], dtype='object')"
      ]
     },
     "execution_count": 3,
     "metadata": {},
     "output_type": "execute_result"
    }
   ],
   "source": [
    "df_20N.columns"
   ]
  },
  {
   "cell_type": "code",
   "execution_count": 4,
   "metadata": {},
   "outputs": [],
   "source": [
    "preprocess_ = Processor()"
   ]
  },
  {
   "cell_type": "code",
   "execution_count": 7,
   "metadata": {},
   "outputs": [
    {
     "name": "stdout",
     "output_type": "stream",
     "text": [
      "0    <s> archive-name atheism/resources alt-atheism...\n",
      "1    <s> archive-name atheism/introduction alt-athe...\n",
      "2    <s> in article EMAIL EMAIL  charley wingate  w...\n",
      "3    <s> EMAIL  ... until kings become philosophers...\n",
      "4    <s> in article EMAIL , EMAIL  bob mcgwier  wri...\n",
      "Name: body_tokenized, dtype: object\n"
     ]
    }
   ],
   "source": [
    "\n",
    "\n",
    "preprocess_ = Processor()\n",
    "\n",
    "# Preprocesar cada fila\n",
    "df_20N['body_tokenized'] = df_20N['body'].apply(preprocess_.process_text)\n",
    "\n",
    "# Verificar el resultado\n",
    "print(df_20N['body_tokenized'].head())"
   ]
  },
  {
   "cell_type": "code",
   "execution_count": 8,
   "metadata": {},
   "outputs": [],
   "source": [
    "text = df_20N['body_tokenized'][18793].replace('  ',' ')"
   ]
  },
  {
   "cell_type": "code",
   "execution_count": 9,
   "metadata": {},
   "outputs": [
    {
     "data": {
      "text/plain": [
       "\"<s> in article EMAIL EMAIL bill conner writes keith m . </s> <s> ryan EMAIL wrote 34mand now . </s> <s> . </s> <s> . </s> <s> 35mdeep thoughts0m 32mby jack handey.0m 36mif you go parachuting , and your parachute does n't open , and your friends are all watching you fall , i think a funny gag would be to pretend you were swimming.0m keith , as you must know by now there are no escape sequences here ansi or otherwise . </s> <s> once you enter here , your terminal beomes dumb . </s> <s> there 's something significant about all this ... </s> <s> you are in the village . </s> <s> many happy returns ! be seeing you ! your ways and means get reign of the tek ! </s>\""
      ]
     },
     "execution_count": 9,
     "metadata": {},
     "output_type": "execute_result"
    }
   ],
   "source": [
    "text"
   ]
  },
  {
   "cell_type": "code",
   "execution_count": 21,
   "metadata": {},
   "outputs": [
    {
     "name": "stdout",
     "output_type": "stream",
     "text": [
      "<s> in article EMAIL EMAIL bill conner writes keith m . </s> <s> ryan EMAIL wrote and now . </s> <s> deep thoughts by jack handey . if you go parachuting , and your parachute does n't open , and your friends are all watching you fall , i think a funny gag would be to pretend you were swimming . keith , as you must know by now there are no escape sequences here ansi or otherwise . </s> <s> once you enter here , your terminal beomes dumb . </s> <s> there 's something significant about all this ... </s> <s> you are in the village . </s> <s> many happy returns ! be seeing you ! your ways and means get reign of the tek ! </s>\n"
     ]
    }
   ],
   "source": [
    "for i in range(0,len(text.split())):\n",
    "    if text.split()[i] == '<s>' and text.split()[i+1] == \".\":\n",
    "        if text.split()[i+2] == \"</s>\":\n",
    "            print(\"tes\")\n",
    "        print(text.split()[i+2])"
   ]
  },
  {
   "cell_type": "code",
   "execution_count": 7,
   "metadata": {},
   "outputs": [
    {
     "data": {
      "text/plain": [
       "\"In article <C64H4w.BFH@darkside.osrhe.uoknor.edu> bil@okcforum.osrhe.edu (Bill Conner) writes: >Keith M. Ryan (kmr4@po.CWRU.edu) wrote: >: [34mAnd now . . . [35mDeep Thoughts[0m >: [32mby Jack Handey.[0m >: [36mIf you go parachuting, and your parachute doesn't open, and your >: friends are all watching you fall, I think a funny gag would be >: to pretend you were swimming.[0m >Keith, >As you must know by now there are no Escape Sequences here (ANSI or >otherwise). Once you enter here, your terminal beomes dumb. There's >something significant about all this ... You are in the village. Many happy returns! Be seeing you! [your ways and means get reign of the tek!]\""
      ]
     },
     "execution_count": 7,
     "metadata": {},
     "output_type": "execute_result"
    }
   ],
   "source": [
    "df_20N['body'][18793]"
   ]
  }
 ],
 "metadata": {
  "kernelspec": {
   "display_name": "Python 3",
   "language": "python",
   "name": "python3"
  },
  "language_info": {
   "codemirror_mode": {
    "name": "ipython",
    "version": 3
   },
   "file_extension": ".py",
   "mimetype": "text/x-python",
   "name": "python",
   "nbconvert_exporter": "python",
   "pygments_lexer": "ipython3",
   "version": "3.11.9"
  }
 },
 "nbformat": 4,
 "nbformat_minor": 2
}
