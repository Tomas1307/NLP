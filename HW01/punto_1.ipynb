{
 "cells": [
  {
   "cell_type": "code",
   "execution_count": 1,
   "metadata": {},
   "outputs": [],
   "source": [
    "import sys\n",
    "import os\n",
    "sys.path.append(os.path.abspath('..'))\n"
   ]
  },
  {
   "cell_type": "markdown",
   "metadata": {},
   "source": [
    "# Implementación de Métricas de Evaluación de IR\n",
    "\n",
    "Este notebook implementa diversas métricas de evaluación de recuperación de información utilizando Python y Numpy. Se abordarán las siguientes métricas:\n",
    "\n",
    "1. Precision\n",
    "2. Precision at K\n",
    "3. Recall at K\n",
    "4. Average Precision\n",
    "5. Mean Average Precision (MAP)\n",
    "6. DCG at K\n",
    "7. NDCG at K\n"
   ]
  },
  {
   "cell_type": "markdown",
   "metadata": {},
   "source": [
    "## 1. Precision (la relevancia es binaria)\n",
    "\n",
    "La métrica de precisión mide la proporción de documentos relevantes recuperados en relación con el total de documentos recuperados.\n"
   ]
  },
  {
   "cell_type": "code",
   "execution_count": 2,
   "metadata": {},
   "outputs": [
    {
     "name": "stdout",
     "output_type": "stream",
     "text": [
      "Precision: 0.25\n"
     ]
    }
   ],
   "source": [
    "from algorithms.metrics.precision import precision\n",
    "\n",
    "relevance_query_1 = [0, 0, 0, 1]\n",
    "precision_value = precision(relevance_query_1)\n",
    "print(f\"Precision: {precision_value}\")\n"
   ]
  },
  {
   "cell_type": "markdown",
   "metadata": {},
   "source": [
    "## 2. Precision at K (la relevancia es binaria)\n",
    "\n",
    "Precision at K mide la proporción de documentos relevantes entre los primeros K documentos recuperados.\n"
   ]
  },
  {
   "cell_type": "code",
   "execution_count": 3,
   "metadata": {},
   "outputs": [
    {
     "name": "stdout",
     "output_type": "stream",
     "text": [
      "Precision at K: 0.0\n"
     ]
    }
   ],
   "source": [
    "from algorithms.metrics.precision import precision_at_k\n",
    "\n",
    "relevance_query_1 = [0, 0, 0, 1]\n",
    "k = 1\n",
    "precision_at_k_value = precision_at_k(relevance_query_1, k)\n",
    "print(f\"Precision at K: {precision_at_k_value}\")\n"
   ]
  },
  {
   "cell_type": "markdown",
   "metadata": {},
   "source": [
    "## 3. Recall at K (la relevancia es binaria)\n",
    "\n",
    "Recall at K mide la proporción de documentos relevantes recuperados entre los primeros K documentos en comparación con el total de documentos relevantes.\n"
   ]
  },
  {
   "cell_type": "code",
   "execution_count": 4,
   "metadata": {},
   "outputs": [
    {
     "name": "stdout",
     "output_type": "stream",
     "text": [
      "Recall at K: 0.0\n"
     ]
    }
   ],
   "source": [
    "from algorithms.metrics.recall import recall_at_k\n",
    "\n",
    "relevance_query_1 = [0, 0, 0, 1]\n",
    "k = 1\n",
    "number_relevant_docs = 4\n",
    "recall_at_k_value = recall_at_k(relevance_query_1, number_relevant_docs, k)\n",
    "print(f\"Recall at K: {recall_at_k_value}\")\n"
   ]
  },
  {
   "cell_type": "markdown",
   "metadata": {},
   "source": [
    "## 4. Average Precision (la relevancia es binaria)\n",
    "\n",
    "Average Precision mide la precisión promedio en los puntos de recuperación donde se encuentra un documento relevante.\n"
   ]
  },
  {
   "cell_type": "code",
   "execution_count": 5,
   "metadata": {},
   "outputs": [
    {
     "name": "stdout",
     "output_type": "stream",
     "text": [
      "Average Precision: 0.5961904761904762\n"
     ]
    }
   ],
   "source": [
    "from algorithms.metrics.average_precision import average_precision\n",
    "\n",
    "relevance_query_2 = [0, 1, 0, 1, 1, 1, 1]\n",
    "average_precision_value = average_precision(relevance_query_2)\n",
    "print(f\"Average Precision: {average_precision_value}\")\n"
   ]
  },
  {
   "cell_type": "markdown",
   "metadata": {},
   "source": [
    "## 5. Mean Average Precision (MAP) (la relevancia es binaria)\n",
    "\n",
    "MAP calcula la precisión promedio para un conjunto de consultas.\n"
   ]
  },
  {
   "cell_type": "code",
   "execution_count": 6,
   "metadata": {},
   "outputs": [
    {
     "name": "stdout",
     "output_type": "stream",
     "text": [
      "Mean Average Precision (MAP): 0.6628571428571428\n"
     ]
    }
   ],
   "source": [
    "from algorithms.metrics.mean_average_precision import MAP\n",
    "\n",
    "relevance_queries = [\n",
    "    [0, 1, 0, 1, 1, 1, 1],\n",
    "    [1, 0, 1, 0, 1, 1, 1]\n",
    "]\n",
    "map_value = MAP(relevance_queries)\n",
    "print(f\"Mean Average Precision (MAP): {map_value}\")\n"
   ]
  },
  {
   "cell_type": "markdown",
   "metadata": {},
   "source": [
    "## 6. DCG at K (la relevancia es un número natural)\n",
    "\n",
    "DCG (Discounted Cumulative Gain) at K mide la relevancia de los documentos recuperados teniendo en cuenta la posición de los documentos relevantes.\n"
   ]
  },
  {
   "cell_type": "code",
   "execution_count": 7,
   "metadata": {},
   "outputs": [
    {
     "name": "stdout",
     "output_type": "stream",
     "text": [
      "DCG at K: 10.279642067948915\n"
     ]
    }
   ],
   "source": [
    "from algorithms.metrics.dcg import dcg_at_k\n",
    "\n",
    "relevance_query_3 = [4, 4, 3, 0, 0, 1, 3, 3, 3, 0]\n",
    "k = 6\n",
    "dcg_value = dcg_at_k(relevance_query_3, k)\n",
    "print(f\"DCG at K: {dcg_value}\")\n"
   ]
  },
  {
   "cell_type": "markdown",
   "metadata": {},
   "source": [
    "## 7. NDCG at K (la relevancia es un número natural)\n",
    "\n",
    "NDCG (Normalized Discounted Cumulative Gain) at K normaliza el valor de DCG a un rango de 0 a 1, comparando el DCG con el valor máximo posible (IDCG).\n"
   ]
  },
  {
   "cell_type": "code",
   "execution_count": 8,
   "metadata": {},
   "outputs": [
    {
     "name": "stdout",
     "output_type": "stream",
     "text": [
      "NDCG at K: 0.7424602308163405\n"
     ]
    }
   ],
   "source": [
    "from algorithms.metrics.ndcg import ndcg_at_k\n",
    "\n",
    "relevance_query_3 = [4, 4, 3, 0, 0, 1, 3, 3, 3, 0]\n",
    "k = 6\n",
    "ndcg_value = ndcg_at_k(relevance_query_3, k)\n",
    "print(f\"NDCG at K: {ndcg_value}\")\n"
   ]
  }
 ],
 "metadata": {
  "kernelspec": {
   "display_name": "Python 3",
   "language": "python",
   "name": "python3"
  },
  "language_info": {
   "codemirror_mode": {
    "name": "ipython",
    "version": 3
   },
   "file_extension": ".py",
   "mimetype": "text/x-python",
   "name": "python",
   "nbconvert_exporter": "python",
   "pygments_lexer": "ipython3",
   "version": "3.10.11"
  }
 },
 "nbformat": 4,
 "nbformat_minor": 2
}
